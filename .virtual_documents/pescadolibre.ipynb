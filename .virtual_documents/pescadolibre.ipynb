from bs4 import BeautifulSoup
import requests
import pandas as pd


URL = "https://listado.mercadolibre.com.ar/rompecabezas#D[A:rompecabezas]"
page = requests.get(URL)


# page.content


soup = BeautifulSoup(page.content, "html.parser")


resultados = soup.find_all("li", class_="ui-search-layout__item shops__layout-item ui-search-layout__stack")





?? soup.find_all





resultados[0]


resultados[0].findChild('h2')


resultados[0].findChild('h2').getText()


resultados[1].findChildren(class_="andes-money-amount__fraction")





def parsestr(instr):
  return int(instr.replace(".","").replace(",","").replace("[","").replace("]","")) 


def piezasDeElem(elem):
  palabras = [a.lower() for a in elem.findChild('h2').getText().split(" ")]
  index = -1
  for palabra in ["pzs", "pieza", "piezas", "pcs", "piezas!", "pz"]:
    try:
      index = palabras.index(palabra)
    except ValueError:
      pass

  try:
    piezas = parsestr(palabras[index-1]) if index != -1  else 0
  except:
    piezas = 0
  return piezas


for elem in resultados:
  titulo = elem.findChild('h2').getText()
  precios = elem.findChildren(class_="andes-money-amount__fraction")
  if len(precios) > 1:
    precio = precios[1]
  else:
    precio = precios[0].getText()
  piezas = piezasDeElem(elem)
  
  print(titulo, precio, piezas, "\n")





for elem in resultados:
  print(elem.findChildren(class_="ui-search-item__group__element ui-search-installments ui-search-color--LIGHT_GREEN"))





df = pd.DataFrame(columns=['titulo','precio','piezas'])


for elem in resultados:
  titulo = elem.findChild('h2').getText()
  precios = elem.findChildren(class_="andes-money-amount__fraction")

  if len(precios) > 1:
    precio = precios[1]
  else:
    precio = precios[0].getText()

  piezas = piezasDeElem(elem)


  nueva_fila = pd.Series({'titulo' : titulo , 'precio' : precio,'piezas': piezas})
  df = pd.concat([df,nueva_fila.to_frame().T], ignore_index=True)




df











contador = 1
urls = []
for i in range(39):
  contador = contador + 50
  url_actual = f"https://listado.mercadolibre.com.ar/rompecabezas_Desde_{contador}_NoIndex_True"
  print(contador,url_actual)
  urls.append(url_actual)




for URL in urls:
  page = requests.get(URL)
  soup = BeautifulSoup(page.content, "html.parser")
  resultados = soup.find_all("li", class_="ui-search-layout__item shops__layout-item ui-search-layout__stack")

  for elem in resultados:
    titulo = elem.findChild('h2').getText()
    precios = elem.findChildren(class_="andes-money-amount__fraction")

    if len(precios) > 1:
      precio = precios[1].getText()
    else:
      precio = precios[0].getText()

    piezas = piezasDeElem(elem)

    nueva_fila = pd.Series({'titulo' : titulo , 'precio' : precio,'piezas': piezas})
    df = pd.concat([df,nueva_fila.to_frame().T], ignore_index=True)
      


df



