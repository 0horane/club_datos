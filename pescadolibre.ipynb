{
 "cells": [
  {
   "cell_type": "code",
   "execution_count": 1,
   "metadata": {
    "id": "oxiHoj6peMxr"
   },
   "outputs": [],
   "source": [
    "from bs4 import BeautifulSoup\n",
    "import requests\n",
    "import pandas as pd"
   ]
  },
  {
   "cell_type": "code",
   "execution_count": 4,
   "metadata": {
    "id": "gIAG51A8hK5C"
   },
   "outputs": [],
   "source": [
    "URL = \"https://listado.mercadolibre.com.ar/rompecabezas#D[A:rompecabezas]\"\n",
    "page = requests.get(URL)"
   ]
  },
  {
   "cell_type": "code",
   "execution_count": null,
   "metadata": {
    "colab": {
     "background_save": true
    },
    "id": "-lIVX759hg-j"
   },
   "outputs": [],
   "source": [
    "# page.content"
   ]
  },
  {
   "cell_type": "code",
   "execution_count": 5,
   "metadata": {
    "id": "LzlOuewAePjM"
   },
   "outputs": [],
   "source": [
    "soup = BeautifulSoup(page.content, \"html.parser\")"
   ]
  },
  {
   "cell_type": "code",
   "execution_count": 6,
   "metadata": {
    "id": "hqG1WkxRgMuC"
   },
   "outputs": [],
   "source": [
    "resultados = soup.find_all(\"li\", class_=\"ui-search-layout__item shops__layout-item ui-search-layout__stack\")"
   ]
  },
  {
   "cell_type": "markdown",
   "metadata": {
    "id": "q_2Kw7HliUMx"
   },
   "source": [
    "¿Qué es resultados?\n",
    "\n",
    "función type y ??"
   ]
  },
  {
   "cell_type": "code",
   "execution_count": 7,
   "metadata": {
    "id": "YAeEpy08iokT"
   },
   "outputs": [
    {
     "data": {
      "text/plain": [
       "\u001b[0;31mSignature:\u001b[0m\n",
       " \u001b[0msoup\u001b[0m\u001b[0;34m.\u001b[0m\u001b[0mfind_all\u001b[0m\u001b[0;34m(\u001b[0m\u001b[0;34m\u001b[0m\n",
       "\u001b[0;34m\u001b[0m    \u001b[0mname\u001b[0m\u001b[0;34m=\u001b[0m\u001b[0;32mNone\u001b[0m\u001b[0;34m,\u001b[0m\u001b[0;34m\u001b[0m\n",
       "\u001b[0;34m\u001b[0m    \u001b[0mattrs\u001b[0m\u001b[0;34m=\u001b[0m\u001b[0;34m{\u001b[0m\u001b[0;34m}\u001b[0m\u001b[0;34m,\u001b[0m\u001b[0;34m\u001b[0m\n",
       "\u001b[0;34m\u001b[0m    \u001b[0mrecursive\u001b[0m\u001b[0;34m=\u001b[0m\u001b[0;32mTrue\u001b[0m\u001b[0;34m,\u001b[0m\u001b[0;34m\u001b[0m\n",
       "\u001b[0;34m\u001b[0m    \u001b[0mtext\u001b[0m\u001b[0;34m=\u001b[0m\u001b[0;32mNone\u001b[0m\u001b[0;34m,\u001b[0m\u001b[0;34m\u001b[0m\n",
       "\u001b[0;34m\u001b[0m    \u001b[0mlimit\u001b[0m\u001b[0;34m=\u001b[0m\u001b[0;32mNone\u001b[0m\u001b[0;34m,\u001b[0m\u001b[0;34m\u001b[0m\n",
       "\u001b[0;34m\u001b[0m    \u001b[0;34m**\u001b[0m\u001b[0mkwargs\u001b[0m\u001b[0;34m,\u001b[0m\u001b[0;34m\u001b[0m\n",
       "\u001b[0;34m\u001b[0m\u001b[0;34m)\u001b[0m\u001b[0;34m\u001b[0m\u001b[0;34m\u001b[0m\u001b[0m\n",
       "\u001b[0;31mSource:\u001b[0m   \n",
       "    \u001b[0;32mdef\u001b[0m \u001b[0mfind_all\u001b[0m\u001b[0;34m(\u001b[0m\u001b[0mself\u001b[0m\u001b[0;34m,\u001b[0m \u001b[0mname\u001b[0m\u001b[0;34m=\u001b[0m\u001b[0;32mNone\u001b[0m\u001b[0;34m,\u001b[0m \u001b[0mattrs\u001b[0m\u001b[0;34m=\u001b[0m\u001b[0;34m{\u001b[0m\u001b[0;34m}\u001b[0m\u001b[0;34m,\u001b[0m \u001b[0mrecursive\u001b[0m\u001b[0;34m=\u001b[0m\u001b[0;32mTrue\u001b[0m\u001b[0;34m,\u001b[0m \u001b[0mtext\u001b[0m\u001b[0;34m=\u001b[0m\u001b[0;32mNone\u001b[0m\u001b[0;34m,\u001b[0m\u001b[0;34m\u001b[0m\n",
       "\u001b[0;34m\u001b[0m                 \u001b[0mlimit\u001b[0m\u001b[0;34m=\u001b[0m\u001b[0;32mNone\u001b[0m\u001b[0;34m,\u001b[0m \u001b[0;34m**\u001b[0m\u001b[0mkwargs\u001b[0m\u001b[0;34m)\u001b[0m\u001b[0;34m:\u001b[0m\u001b[0;34m\u001b[0m\n",
       "\u001b[0;34m\u001b[0m        \u001b[0;34m\"\"\"Look in the children of this PageElement and find all\u001b[0m\n",
       "\u001b[0;34m        PageElements that match the given criteria.\u001b[0m\n",
       "\u001b[0;34m\u001b[0m\n",
       "\u001b[0;34m        All find_* methods take a common set of arguments. See the online\u001b[0m\n",
       "\u001b[0;34m        documentation for detailed explanations.\u001b[0m\n",
       "\u001b[0;34m\u001b[0m\n",
       "\u001b[0;34m        :param name: A filter on tag name.\u001b[0m\n",
       "\u001b[0;34m        :param attrs: A dictionary of filters on attribute values.\u001b[0m\n",
       "\u001b[0;34m        :param recursive: If this is True, find_all() will perform a\u001b[0m\n",
       "\u001b[0;34m            recursive search of this PageElement's children. Otherwise,\u001b[0m\n",
       "\u001b[0;34m            only the direct children will be considered.\u001b[0m\n",
       "\u001b[0;34m        :param limit: Stop looking after finding this many results.\u001b[0m\n",
       "\u001b[0;34m        :kwargs: A dictionary of filters on attribute values.\u001b[0m\n",
       "\u001b[0;34m        :return: A ResultSet of PageElements.\u001b[0m\n",
       "\u001b[0;34m        :rtype: bs4.element.ResultSet\u001b[0m\n",
       "\u001b[0;34m        \"\"\"\u001b[0m\u001b[0;34m\u001b[0m\n",
       "\u001b[0;34m\u001b[0m        \u001b[0mgenerator\u001b[0m \u001b[0;34m=\u001b[0m \u001b[0mself\u001b[0m\u001b[0;34m.\u001b[0m\u001b[0mdescendants\u001b[0m\u001b[0;34m\u001b[0m\n",
       "\u001b[0;34m\u001b[0m        \u001b[0;32mif\u001b[0m \u001b[0;32mnot\u001b[0m \u001b[0mrecursive\u001b[0m\u001b[0;34m:\u001b[0m\u001b[0;34m\u001b[0m\n",
       "\u001b[0;34m\u001b[0m            \u001b[0mgenerator\u001b[0m \u001b[0;34m=\u001b[0m \u001b[0mself\u001b[0m\u001b[0;34m.\u001b[0m\u001b[0mchildren\u001b[0m\u001b[0;34m\u001b[0m\n",
       "\u001b[0;34m\u001b[0m        \u001b[0;32mreturn\u001b[0m \u001b[0mself\u001b[0m\u001b[0;34m.\u001b[0m\u001b[0m_find_all\u001b[0m\u001b[0;34m(\u001b[0m\u001b[0mname\u001b[0m\u001b[0;34m,\u001b[0m \u001b[0mattrs\u001b[0m\u001b[0;34m,\u001b[0m \u001b[0mtext\u001b[0m\u001b[0;34m,\u001b[0m \u001b[0mlimit\u001b[0m\u001b[0;34m,\u001b[0m \u001b[0mgenerator\u001b[0m\u001b[0;34m,\u001b[0m \u001b[0;34m**\u001b[0m\u001b[0mkwargs\u001b[0m\u001b[0;34m)\u001b[0m\u001b[0;34m\u001b[0m\u001b[0;34m\u001b[0m\u001b[0m\n",
       "\u001b[0;31mFile:\u001b[0m      /usr/lib/python3/dist-packages/bs4/element.py\n",
       "\u001b[0;31mType:\u001b[0m      method\n"
      ]
     },
     "metadata": {},
     "output_type": "display_data"
    }
   ],
   "source": [
    "?? soup.find_all"
   ]
  },
  {
   "cell_type": "markdown",
   "metadata": {
    "id": "rYDjx2friyxT"
   },
   "source": [
    "Entonces, ¿puedo acceder a los elemntos que encontré?"
   ]
  },
  {
   "cell_type": "code",
   "execution_count": 8,
   "metadata": {
    "colab": {
     "base_uri": "https://localhost:8080/"
    },
    "id": "jHg63MrsgNhB",
    "outputId": "d728f43e-8c25-48ae-ae6e-05ca2f5ad71a"
   },
   "outputs": [
    {
     "data": {
      "text/plain": [
       "<li class=\"ui-search-layout__item shops__layout-item ui-search-layout__stack\"><div class=\"ui-search-result__wrapper\"><div class=\"andes-card ui-search-result ui-search-result--core andes-card--flat andes-card--padding-16\" id=\":R2l5e6:\"><div class=\"ui-search-result__image\"><section aria-label=\"Puzzle Rompecabezas 1000 Pzs Varios Modelos Paisaje Lelab\" aria-roledescription=\"Carrusel\" class=\"andes-carousel-snapped__container andes-carousel-snapped__container--full andes-carousel-snapped__container--with-controls\" id=\":R2k2l5e6:\"><div class=\"andes-carousel-snapped__header\"></div><div class=\"andes-carousel-snapped__controls-wrapper\"><button aria-label=\"Anterior\" class=\"andes-carousel-snapped__control andes-carousel-snapped__control--previous andes-carousel-snapped__control--size-large andes-carousel-snapped__control--disabled\" disabled=\"\" type=\"button\"><span aria-hidden=\"true\" class=\"andes-carousel-snapped__control__icon-container\"><svg aria-hidden=\"true\" fill=\"rgba(0, 0, 0, 0.9)\" height=\"24\" viewbox=\"0 0 24 24\" width=\"24\"><path d=\"M14.0656 4.9325L15.1263 5.99316L9.12254 11.9969L15.1325 18.0069L14.0719 19.0676L7.00122 11.9969L14.0656 4.9325Z\" fill=\"rgba(0, 0, 0, 0.9)\"></path></svg></span></button><div class=\"andes-carousel-snapped ui-search-result__card andes-carousel-snapped--scroll-hidden\"><div class=\"andes-carousel-snapped__wrapper\"><div aria-label=\"1 de 1\" class=\"andes-carousel-snapped__slide\" role=\"group\" style=\"width:calc(100% - 0px)\"><img alt=\"Puzzle Rompecabezas 1000 Pzs Varios Modelos Paisaje Lelab\" class=\"ui-search-result-image__element lazy-loadable\" data-src=\"https://http2.mlstatic.com/D_NQ_NP_698029-MLA47952689477_102021-V.webp\" decoding=\"sync\" fetchpriority=\"high\" height=\"160\" src=\"data:image/gif;base64,R0lGODlhAQABAIAAAAAAAP///yH5BAEAAAAALAAAAAABAAEAAAIBRAA7\" width=\"160\"/></div></div></div><button aria-label=\"Siguiente\" class=\"andes-carousel-snapped__control andes-carousel-snapped__control--next andes-carousel-snapped__control--size-large andes-carousel-snapped__control--disabled\" disabled=\"\" type=\"button\"><span aria-hidden=\"true\" class=\"andes-carousel-snapped__control__icon-container\"><svg aria-hidden=\"true\" fill=\"rgba(0, 0, 0, 0.9)\" height=\"24\" viewbox=\"0 0 24 24\" width=\"24\"><path d=\"M14.0656 4.9325L15.1263 5.99316L9.12254 11.9969L15.1325 18.0069L14.0719 19.0676L7.00122 11.9969L14.0656 4.9325Z\" fill=\"rgba(0, 0, 0, 0.9)\"></path></svg></span></button></div></section></div><div class=\"ui-search-result__content-wrapper\"><div class=\"ui-search-item__highlight-label ui-search-item__highlight-label--best_seller\" style=\"background:#FF7733\"><div class=\"ui-search-item__highlight-label__container\"><label class=\"ui-search-styled-label ui-search-item__highlight-label__text\" style=\"color:#FFFFFF\">MÁS VENDIDO</label></div></div><div class=\"ui-search-item__group ui-search-item__group--title\"><span class=\"ui-search-item__brand-discoverability ui-search-item__group__element\"></span><a class=\"ui-search-item__group__element ui-search-link__title-card ui-search-link\" href=\"https://articulo.mercadolibre.com.ar/MLA-1108990344-puzzle-rompecabezas-1000-pzs-varios-modelos-paisaje-lelab-_JM#position=41&amp;search_layout=stack&amp;type=item&amp;tracking_id=fa362b6e-7a96-477e-b0b1-d5222a11faed\" title=\"Puzzle Rompecabezas 1000 Pzs Varios Modelos Paisaje Lelab\"><h2 aria-level=\"3\" class=\"ui-search-item__title\">Puzzle Rompecabezas 1000 Pzs Varios Modelos Paisaje Lelab</h2></a></div><div class=\"ui-search-result__content-columns\"><div class=\"ui-search-result__content-column ui-search-result__content-column--left\"><div class=\"ui-search-item__group ui-search-item__group--price ui-search-item__group--price-grid-container\"><div class=\"ui-search-item__group__element ui-search-price__part-without-link\"><div class=\"ui-search-price ui-search-price--size-medium\"><div class=\"ui-search-price__second-line\"><span aria-label=\"11979 pesos\" aria-roledescription=\"Precio\" class=\"andes-money-amount ui-search-price__part ui-search-price__part--medium andes-money-amount--cents-superscript\" role=\"img\" style=\"font-size:24px\"><span aria-hidden=\"true\" class=\"andes-money-amount__currency-symbol\">$</span><span aria-hidden=\"true\" class=\"andes-money-amount__fraction\">11.979</span></span><span class=\"ui-search-price__second-line__label\"></span></div></div></div><div class=\"ui-search-item__group__element ui-search-installments ui-search-color--BLACK\"><span>en 6 cuotas de $ 2.668</span></div></div><div class=\"ui-pb\"><div class=\"ui-pb-container\"><p class=\"fulfillment ui-pb-label-builder fulfillment fulfillment\" style=\"color:#0000008C;font-size:12px;font-weight:400\"><span class=\"ui-pb-label\">Enviado por</span><svg aria-label=\"full\" class=\"ui-search-icon ui-search-icon--full\" viewbox=\"0 0 100 32\" xmlns=\"http://www.w3.org/2000/svg\"><use href=\"#poly_full\"></use></svg></p></div></div></div><div class=\"ui-search-result__content-column ui-search-result__content-column--right\"><div class=\"ui-search-item__group ui-search-item__group--reviews\"><div class=\"ui-search-reviews ui-search-item__group__element\"><span class=\"andes-visually-hidden\">Calificación 4.7 de 5. 446 opiniones.</span><span aria-hidden=\"true\" class=\"ui-search-reviews__rating-number\">4.7</span><span aria-hidden=\"true\" class=\"ui-search-reviews__ratings\"><svg class=\"ui-search-icon ui-search-icon--star ui-search-icon--star-full\" fill=\"#3483fa\" height=\"100%\" viewbox=\"0 0 10 10\" width=\"100%\"><use href=\"#poly_star_fill\"></use></svg><svg class=\"ui-search-icon ui-search-icon--star ui-search-icon--star-full\" fill=\"#3483fa\" height=\"100%\" viewbox=\"0 0 10 10\" width=\"100%\"><use href=\"#poly_star_fill\"></use></svg><svg class=\"ui-search-icon ui-search-icon--star ui-search-icon--star-full\" fill=\"#3483fa\" height=\"100%\" viewbox=\"0 0 10 10\" width=\"100%\"><use href=\"#poly_star_fill\"></use></svg><svg class=\"ui-search-icon ui-search-icon--star ui-search-icon--star-full\" fill=\"#3483fa\" height=\"100%\" viewbox=\"0 0 10 10\" width=\"100%\"><use href=\"#poly_star_fill\"></use></svg><svg class=\"ui-search-icon ui-search-icon--star ui-search-icon--star-half\" fill=\"#3483fa\" height=\"100%\" viewbox=\"0 0 10 10\" width=\"100%\"><use href=\"#poly_star_half\"></use></svg></span><span aria-hidden=\"true\" class=\"ui-search-reviews__amount\">(446)</span></div></div></div></div><div class=\"ui-search-result__content-column ui-search-result__content-column--bottom\"></div></div><div class=\"ui-search-result__bookmark\"><form action=\"/search/bookmarks/MLA1108990344\" class=\"ui-search-bookmark\" method=\"POST\"><button aria-checked=\"false\" aria-label=\"Favorito\" class=\"ui-search-bookmark__btn\" role=\"switch\" type=\"submit\"><svg class=\"ui-search-icon ui-search-icon--bookmark ui-search-bookmark__icon-bookmark\" viewbox=\"0 0 22 20\" xmlns=\"http://www.w3.org/2000/svg\"><use href=\"#poly_bookmark\"></use></svg><svg class=\"ui-search-icon ui-search-icon--bookmark ui-search-bookmark__icon-bookmark-fill\" viewbox=\"0 0 22 20\" xmlns=\"http://www.w3.org/2000/svg\"><use href=\"#poly_bookmark\"></use></svg></button><input name=\"logginUrl\" type=\"hidden\" value=\"https://www.mercadolibre.com/jms/mla/lgz/login?platform_id=ML&amp;go=https%3A%2F%2Flistado.mercadolibre.com.ar%2Frompecabezas&amp;loginType=explicit\"/><input name=\"method\" type=\"hidden\" value=\"add\"/><input name=\"itemId\" type=\"hidden\" value=\"MLA1108990344\"/></form></div></div></div></li>"
      ]
     },
     "execution_count": 8,
     "metadata": {},
     "output_type": "execute_result"
    }
   ],
   "source": [
    "resultados[0]"
   ]
  },
  {
   "cell_type": "code",
   "execution_count": 9,
   "metadata": {
    "colab": {
     "base_uri": "https://localhost:8080/"
    },
    "id": "hrOy0R-tkxDz",
    "outputId": "70be5648-37d1-4683-92d4-8f540260e592"
   },
   "outputs": [
    {
     "data": {
      "text/plain": [
       "<h2 aria-level=\"3\" class=\"ui-search-item__title\">Puzzle Rompecabezas 1000 Pzs Varios Modelos Paisaje Lelab</h2>"
      ]
     },
     "execution_count": 9,
     "metadata": {},
     "output_type": "execute_result"
    }
   ],
   "source": [
    "resultados[0].findChild('h2')"
   ]
  },
  {
   "cell_type": "code",
   "execution_count": 23,
   "metadata": {
    "colab": {
     "base_uri": "https://localhost:8080/",
     "height": 35
    },
    "id": "pq8DKSgskzw2",
    "outputId": "5065d510-d125-4844-cae9-b1a1b17d09c7"
   },
   "outputs": [
    {
     "data": {
      "text/plain": [
       "'1000'"
      ]
     },
     "execution_count": 23,
     "metadata": {},
     "output_type": "execute_result"
    }
   ],
   "source": [
    "resultados[0].findChild('h2').getText()"
   ]
  },
  {
   "cell_type": "code",
   "execution_count": 24,
   "metadata": {
    "colab": {
     "base_uri": "https://localhost:8080/"
    },
    "id": "jmyiCzFRk4A_",
    "outputId": "717eec10-b416-47d5-a061-9ae6dccb2dc8"
   },
   "outputs": [
    {
     "data": {
      "text/plain": [
       "[<span aria-hidden=\"true\" class=\"andes-money-amount__fraction\">18.990</span>,\n",
       " <span aria-hidden=\"true\" class=\"andes-money-amount__fraction\">15.990</span>]"
      ]
     },
     "execution_count": 24,
     "metadata": {},
     "output_type": "execute_result"
    }
   ],
   "source": [
    "resultados[1].findChildren(class_=\"andes-money-amount__fraction\")"
   ]
  },
  {
   "cell_type": "markdown",
   "metadata": {
    "id": "yAcC14b6ncY8"
   },
   "source": [
    "¿Por qué hay dos?\n",
    "\n",
    "Es la oferta, en la página se ve así\n",
    "\n",
    "![image.png](data:image/png;base64,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)\n",
    "\n",
    "Entonces, si hay dos queremos agarrar el segundo."
   ]
  },
  {
   "cell_type": "code",
   "execution_count": 51,
   "metadata": {
    "colab": {
     "base_uri": "https://localhost:8080/"
    },
    "id": "-PaON7jtiJpD",
    "outputId": "cb458d28-ee2a-45d6-9b2e-0c14fbbd0a3c"
   },
   "outputs": [
    {
     "name": "stdout",
     "output_type": "stream",
     "text": [
      "Rompecabezas 3d Auto Chevrolet Bel Air 1957 Maqueta  12.454 0 \n",
      "\n",
      "Encastre Rompecabezas De Madera Bloque Tetris Didáctico Niño 3.900 0 \n",
      "\n",
      "Duravit 007 Rompecabeza Puzzle Abecedario Zoo 28 Piezas  3.866 28 \n",
      "\n",
      "Puzzle De Madera Tangram Didáctico Montessori Varios Modelos <span aria-hidden=\"true\" class=\"andes-money-amount__fraction\">6.291</span> 0 \n",
      "\n",
      "Rompecabezas 1000 Lobos De Verano Ravensburger 40.680 0 \n",
      "\n",
      "Puzzle 2000 Pz - Pirate World Zigic- Heye 29847 79.900 2000 \n",
      "\n",
      "Puzzle De 1000 Piezas The Beatles Jhon Lennon 13.900 1000 \n",
      "\n",
      "Rompecabezas 1000 Piezas Paisajes Argentinos Faydi 17.819 1000 \n",
      "\n",
      "Juego Didactico De Encastre Animales En Bloque Rompecabezas <span aria-hidden=\"true\" class=\"andes-money-amount__fraction\">5.957</span> 0 \n",
      "\n",
      "Rompecabezas De Madera Encastre Bloque Animales Varios 08813 5.300 0 \n",
      "\n",
      "Rompecabezas 3d Nat Geo Empire State Cubicfun 23.100 0 \n",
      "\n",
      "Puzzle 1000 Jigsaw Boulevard De Paris Cresko Sharif Express 14.500 0 \n",
      "\n",
      "Tangram Puzzle Chino X 7 Piezas Juego De Ingenio Armado <span aria-hidden=\"true\" class=\"andes-money-amount__fraction\">2.957</span> 7 \n",
      "\n",
      "Puzzle Rompecabezas Prime 48 Piezas 3d Selfie Animalitos 9.990 48 \n",
      "\n",
      "Rompecabezas Didáctico Rock Ciencia Cuerpo Humano Pack X3 <span aria-hidden=\"true\" class=\"andes-money-amount__fraction\">38.931</span> 0 \n",
      "\n",
      "Rompecabezas 500 Piezas- Universo Mar - Yamila Violetta 15.300 0 \n",
      "\n",
      "Rompe Cabezas Infantil 50 Piezas Excelente Oferta 5.399 50 \n",
      "\n",
      "Puzzle 1000 Pzs Abraham Hunter Light Unto My Path 23397 <span aria-hidden=\"true\" class=\"andes-money-amount__fraction\">13.990</span> 1000 \n",
      "\n",
      "Rompecabezas 3d Catedral Notre Dame Fibrofacil Mdf Maqueta 19.130 0 \n",
      "\n",
      "Lote X5 Rompecabezas De Madera 16 Piezas C/u Didáctico 6.999 16 \n",
      "\n",
      "Rompecabezas Puzzle Peter Pan 150 Piezas Implas Infantil 7.100 150 \n",
      "\n",
      "Antex Puzzle Super Lupa 100 Piezas 3043 10.200 100 \n",
      "\n",
      "Aviones , Para Armar, Puzzle.en Fibro Facil 15 Souvenir 15.000 0 \n",
      "\n",
      "Rompecabezas X1000 Cataratas Del Iguazú 7° Maravilla Mundial 26.940 0 \n",
      "\n",
      "Rompecabezas Artesanal De Madera León Del Augurio 52.799 0 \n",
      "\n",
      "Puzzle X1000 Pzs Rompecabezas De La Republica Argentina Mapa 18.000 0 \n",
      "\n",
      "Puzzle Rompecabezas Fluo Brilla En Oscuridad 40 Pz Luna 17.658 40 \n",
      "\n",
      "Puzzle Rompecabezas 3d El Extraño Mundo De Jack 300 Piezas 26.990 300 \n",
      "\n",
      "Rompecabezas 1000 Piezas Venice, Rialto Bridge 25.600 1000 \n",
      "\n",
      "San Coloman Puzzle 500 Piezas Implás Rompecabezas <span aria-hidden=\"true\" class=\"andes-money-amount__fraction\">8.056</span> 500 \n",
      "\n",
      "Rompecabezas 500 Piezas- Flores En Hawái - Yamila Violetta  15.300 0 \n",
      "\n",
      "Encastre Rompecabezas Madera En Relieve 3d Didáctico 9.990 0 \n",
      "\n",
      "Mapa Madera América Rompecabezas Puzzle Encastre Didactico 12.000 0 \n",
      "\n",
      "Dinosaurios De Madera P/ Armar Rompecabeza Tridimensional 7.534 0 \n",
      "\n",
      "4 En 1 Puzzles Ruibal Diferentes Edades Rompecabezas  11.999 0 \n",
      "\n",
      "Rompecabezas Tapimovil Star Wars Mandalorian X240 Piezas 7.499 0 \n",
      "\n",
      "Rompecabezas X1000 Piezas Mujer Y Plumas 22.200 0 \n",
      "\n",
      "Primer Puzzle Rompecabezas 25 Piezas 28 X 28 Cm 7.190 25 \n",
      "\n",
      "Rompecabeza Puzzle Cresko Girasole Van Gogh Arte 15.600 0 \n",
      "\n",
      "Puzzle Cenicienta X4 Pzs+cuento Duravit Del Tomate <span aria-hidden=\"true\" class=\"andes-money-amount__fraction\">7.232</span> 0 \n",
      "\n",
      "Juego Puzzle De Ingenio Bloque Arval - Sharif Express 5.100 0 \n",
      "\n",
      "Puzzle Rompecabezas La Sirenita 120 Piezas Tapimovil <span aria-hidden=\"true\" class=\"andes-money-amount__fraction\">7.216</span> 120 \n",
      "\n",
      "Juego Encastre Tren Rompecabezas Engranaje Madera Didactico 7.999 0 \n",
      "\n",
      "Rompecabeza Puzzle 30x23 70 Piezas En Madera  Personalizados 11.880 70 \n",
      "\n",
      "Juego De Rompecabezas Con Encastre Letras Numeros 27 Piezas  4.490 27 \n",
      "\n",
      "Puzzle Ball Habilidad Y Destreza Rojo 9.000 0 \n",
      "\n",
      "Puzzle Rompecabezas 1000 Piezas Estacion De Tren Hao Xiang 16.199 1000 \n",
      "\n",
      "Puzzle Rompecabezas Disney Por 240 Piezas <span aria-hidden=\"true\" class=\"andes-money-amount__fraction\">7.503</span> 240 \n",
      "\n",
      "Rompecabezas Junior Tots 24 Y 36 Piezas Tapimovil 01131 <span aria-hidden=\"true\" class=\"andes-money-amount__fraction\">1.813</span> 36 \n",
      "\n",
      "Rompecabezas X 1000 Pzs Los Girasoles Van Gogh Para Regalar 14.000 1000 \n",
      "\n",
      "Juego De Mesa Puzzle 500 Pzs American Country Ditoys 13.516 500 \n",
      "\n",
      "Puzzle camion Volcador Construccion 20 Piezas - Rompecabezas Serie Vehículos - Kylwin 3.790 20 \n",
      "\n",
      "Puzzle 3d Sonic 60 Piezas Con Anteojos 10.500 60 \n",
      "\n",
      "Dinosaurios, Para Armar, Puzzle.en Fibro Facil 15 Souvenir 12.000 0 \n",
      "\n",
      "Puzzle Rompecabezas Gigante De Piso 48 Piezas Grandes Battat 32.600 48 \n",
      "\n",
      "Rompecabezas / Puzzle Largo Granja. 30 Piezas 32.847 30 \n",
      "\n"
     ]
    }
   ],
   "source": [
    "def parsestr(instr):\n",
    "  return int(instr.replace(\".\",\"\").replace(\",\",\"\").replace(\"[\",\"\").replace(\"]\",\"\")) \n",
    "\n",
    "\n",
    "def piezasDeElem(elem):\n",
    "  palabras = [a.lower() for a in elem.findChild('h2').getText().split(\" \")]\n",
    "  index = -1\n",
    "  for palabra in [\"pzs\", \"pieza\", \"piezas\", \"pcs\", \"piezas!\", \"pz\"]:\n",
    "    try:\n",
    "      index = palabras.index(palabra)\n",
    "    except ValueError:\n",
    "      pass\n",
    "\n",
    "  try:\n",
    "    piezas = parsestr(palabras[index-1]) if index != -1  else 0\n",
    "  except:\n",
    "    piezas = 0\n",
    "  return piezas\n",
    "\n",
    "\n",
    "for elem in resultados:\n",
    "  titulo = elem.findChild('h2').getText()\n",
    "  precios = elem.findChildren(class_=\"andes-money-amount__fraction\")\n",
    "  if len(precios) > 1:\n",
    "    precio = precios[1]\n",
    "  else:\n",
    "    precio = precios[0].getText()\n",
    "  piezas = piezasDeElem(elem)\n",
    "  \n",
    "  print(titulo, precio, piezas, \"\\n\")"
   ]
  },
  {
   "cell_type": "markdown",
   "metadata": {
    "id": "QH0Mv0cSoMG5"
   },
   "source": [
    "Agregamos info de cuotas?"
   ]
  },
  {
   "cell_type": "code",
   "execution_count": null,
   "metadata": {
    "colab": {
     "base_uri": "https://localhost:8080/"
    },
    "id": "Jw4mDO39jaNt",
    "outputId": "63317fd9-7c48-48bc-d449-0ca44a138cbb"
   },
   "outputs": [
    {
     "name": "stdout",
     "output_type": "stream",
     "text": [
      "[<div class=\"ui-search-item__group__element ui-search-installments ui-search-color--LIGHT_GREEN\"><span>Mismo precio en 6‚ÄØcuotas de $‚ÄØ41.666</span></div>]\n",
      "[<div class=\"ui-search-item__group__element ui-search-installments ui-search-color--LIGHT_GREEN\"><span>Mismo precio en 9‚ÄØcuotas de $‚ÄØ39.999</span></div>]\n",
      "[<div class=\"ui-search-item__group__element ui-search-installments ui-search-color--LIGHT_GREEN\"><span>Mismo precio en 9‚ÄØcuotas de $‚ÄØ28.333</span></div>]\n",
      "[<div class=\"ui-search-item__group__element ui-search-installments ui-search-color--LIGHT_GREEN\"><span>Mismo precio en 9‚ÄØcuotas de $‚ÄØ34.999</span></div>]\n",
      "[<div class=\"ui-search-item__group__element ui-search-installments ui-search-color--LIGHT_GREEN\"><span>Mismo precio en 9‚ÄØcuotas de $‚ÄØ29.999</span></div>]\n",
      "[<div class=\"ui-search-item__group__element ui-search-installments ui-search-color--LIGHT_GREEN\"><span>Mismo precio en 9‚ÄØcuotas de $‚ÄØ58.333</span></div>]\n",
      "[<div class=\"ui-search-item__group__element ui-search-installments ui-search-color--LIGHT_GREEN\"><span>Mismo precio en 6‚ÄØcuotas de $‚ÄØ72.499</span></div>]\n",
      "[<div class=\"ui-search-item__group__element ui-search-installments ui-search-color--LIGHT_GREEN\"><span>Mismo precio en 9‚ÄØcuotas de $‚ÄØ65.555</span></div>]\n",
      "[<div class=\"ui-search-item__group__element ui-search-installments ui-search-color--LIGHT_GREEN\"><span>Mismo precio en 12‚ÄØcuotas de $‚ÄØ72.916</span></div>]\n",
      "[<div class=\"ui-search-item__group__element ui-search-installments ui-search-color--LIGHT_GREEN\"><span>Cuota Simple en 6‚ÄØcuotas de $‚ÄØ61.909</span></div>]\n",
      "[<div class=\"ui-search-item__group__element ui-search-installments ui-search-color--LIGHT_GREEN\"><span>Mismo precio en 6‚ÄØcuotas de $‚ÄØ95.998</span></div>]\n",
      "[]\n",
      "[<div class=\"ui-search-item__group__element ui-search-installments ui-search-color--LIGHT_GREEN\"><span>Mismo precio en 6‚ÄØcuotas de $‚ÄØ194.166</span></div>]\n",
      "[<div class=\"ui-search-item__group__element ui-search-installments ui-search-color--LIGHT_GREEN\"><span>Cuota Simple en 6‚ÄØcuotas de $‚ÄØ65.962</span></div>]\n",
      "[<div class=\"ui-search-item__group__element ui-search-installments ui-search-color--LIGHT_GREEN\"><span>Mismo precio en 12‚ÄØcuotas de $‚ÄØ34.883</span></div>]\n",
      "[<div class=\"ui-search-item__group__element ui-search-installments ui-search-color--LIGHT_GREEN\"><span>Mismo precio en 12‚ÄØcuotas de $‚ÄØ68.333</span></div>]\n",
      "[<div class=\"ui-search-item__group__element ui-search-installments ui-search-color--LIGHT_GREEN\"><span>Mismo precio en 6‚ÄØcuotas de $‚ÄØ327.499</span></div>]\n",
      "[<div class=\"ui-search-item__group__element ui-search-installments ui-search-color--LIGHT_GREEN\"><span>Mismo precio en 3‚ÄØcuotas de $‚ÄØ122.833</span></div>]\n",
      "[<div class=\"ui-search-item__group__element ui-search-installments ui-search-color--LIGHT_GREEN\"><span>Mismo precio en 3‚ÄØcuotas de $‚ÄØ81.666</span></div>]\n",
      "[<div class=\"ui-search-item__group__element ui-search-installments ui-search-color--LIGHT_GREEN\"><span>Cuota Simple en 6‚ÄØcuotas de $‚ÄØ69.647</span></div>]\n",
      "[]\n",
      "[<div class=\"ui-search-item__group__element ui-search-installments ui-search-color--LIGHT_GREEN\"><span>Mismo precio en 12‚ÄØcuotas de $‚ÄØ102.779</span></div>]\n",
      "[]\n",
      "[<div class=\"ui-search-item__group__element ui-search-installments ui-search-color--LIGHT_GREEN\"><span>Mismo precio en 3‚ÄØcuotas de $‚ÄØ99.999</span></div>]\n",
      "[<div class=\"ui-search-item__group__element ui-search-installments ui-search-color--LIGHT_GREEN\"><span>Mismo precio en 9‚ÄØcuotas de $‚ÄØ75.555</span></div>]\n",
      "[<div class=\"ui-search-item__group__element ui-search-installments ui-search-color--LIGHT_GREEN\"><span>Mismo precio en 12‚ÄØcuotas de $‚ÄØ33.836</span></div>]\n",
      "[<div class=\"ui-search-item__group__element ui-search-installments ui-search-color--LIGHT_GREEN\"><span>Cuota promocionada en 6‚ÄØcuotas de $‚ÄØ87.234</span></div>]\n",
      "[<div class=\"ui-search-item__group__element ui-search-installments ui-search-color--LIGHT_GREEN\"><span>Mismo precio en 12‚ÄØcuotas de $‚ÄØ13.576</span></div>]\n",
      "[<div class=\"ui-search-item__group__element ui-search-installments ui-search-color--LIGHT_GREEN\"><span>Cuota promocionada en 6‚ÄØcuotas de $‚ÄØ378.651</span></div>]\n",
      "[<div class=\"ui-search-item__group__element ui-search-installments ui-search-color--LIGHT_GREEN\"><span>Mismo precio en 12‚ÄØcuotas de $‚ÄØ29.697</span></div>]\n",
      "[<div class=\"ui-search-item__group__element ui-search-installments ui-search-color--LIGHT_GREEN\"><span>Mismo precio en 12‚ÄØcuotas de $‚ÄØ22.839</span></div>]\n",
      "[<div class=\"ui-search-item__group__element ui-search-installments ui-search-color--LIGHT_GREEN\"><span>Cuota Simple en 6‚ÄØcuotas de $‚ÄØ92.863</span></div>]\n",
      "[<div class=\"ui-search-item__group__element ui-search-installments ui-search-color--LIGHT_GREEN\"><span>Mismo precio en 12‚ÄØcuotas de $‚ÄØ11.224</span></div>]\n",
      "[<div class=\"ui-search-item__group__element ui-search-installments ui-search-color--LIGHT_GREEN\"><span>Cuota Simple en 6‚ÄØcuotas de $‚ÄØ165.412</span></div>]\n",
      "[]\n",
      "[]\n",
      "[<div class=\"ui-search-item__group__element ui-search-installments ui-search-color--LIGHT_GREEN\"><span>Mismo precio en 12‚ÄØcuotas de $‚ÄØ17.221</span></div>]\n",
      "[]\n",
      "[<div class=\"ui-search-item__group__element ui-search-installments ui-search-color--LIGHT_GREEN\"><span>Mismo precio en 6‚ÄØcuotas de $‚ÄØ37.666</span></div>]\n",
      "[<div class=\"ui-search-item__group__element ui-search-installments ui-search-color--LIGHT_GREEN\"><span>Cuota Simple en 6‚ÄØcuotas de $‚ÄØ77.386</span></div>]\n",
      "[<div class=\"ui-search-item__group__element ui-search-installments ui-search-color--LIGHT_GREEN\"><span>Cuota Simple en 6‚ÄØcuotas de $‚ÄØ83.383</span></div>]\n",
      "[<div class=\"ui-search-item__group__element ui-search-installments ui-search-color--LIGHT_GREEN\"><span>Mismo precio en 12‚ÄØcuotas de $‚ÄØ123.583</span></div>]\n",
      "[<div class=\"ui-search-item__group__element ui-search-installments ui-search-color--LIGHT_GREEN\"><span>Mismo precio en 6‚ÄØcuotas de $‚ÄØ86.000</span></div>]\n",
      "[<div class=\"ui-search-item__group__element ui-search-installments ui-search-color--LIGHT_GREEN\"><span>Mismo precio en 12‚ÄØcuotas de $‚ÄØ53.170</span></div>]\n",
      "[<div class=\"ui-search-item__group__element ui-search-installments ui-search-color--LIGHT_GREEN\"><span>Cuota promocionada en 6‚ÄØcuotas de $‚ÄØ98.394</span></div>]\n",
      "[]\n",
      "[<div class=\"ui-search-item__group__element ui-search-installments ui-search-color--LIGHT_GREEN\"><span>Mismo precio en 12‚ÄØcuotas de $‚ÄØ42.476</span></div>]\n",
      "[]\n",
      "[<div class=\"ui-search-item__group__element ui-search-installments ui-search-color--LIGHT_GREEN\"><span>Mismo precio en 12‚ÄØcuotas de $‚ÄØ10.611</span></div>]\n"
     ]
    }
   ],
   "source": [
    "for elem in resultados:\n",
    "  print(elem.findChildren(class_=\"ui-search-item__group__element ui-search-installments ui-search-color--LIGHT_GREEN\"))"
   ]
  },
  {
   "cell_type": "markdown",
   "metadata": {
    "id": "MIUx8cbvox6F"
   },
   "source": [
    "Notar que sale toda la info html (<div class...) por que no le puse getText()\n",
    "\n",
    "Entonces hasta ahora tenemos título, precio y cuotas. Vamos a ver cómo meterlo en un dataframe."
   ]
  },
  {
   "cell_type": "code",
   "execution_count": 38,
   "metadata": {
    "id": "dr4PVT72oxC2"
   },
   "outputs": [],
   "source": [
    "df = pd.DataFrame(columns=['titulo','precio','piezas'])\n",
    "\n",
    "\n",
    "for elem in resultados:\n",
    "  titulo = elem.findChild('h2').getText()\n",
    "  precios = elem.findChildren(class_=\"andes-money-amount__fraction\")\n",
    "\n",
    "  if len(precios) > 1:\n",
    "    precio = precios[1]\n",
    "  else:\n",
    "    precio = precios[0].getText()\n",
    "\n",
    "  piezas = piezasDeElem(elem)\n",
    "\n",
    "\n",
    "  nueva_fila = pd.Series({'titulo' : titulo , 'precio' : precio,'piezas': piezas})\n",
    "  df = pd.concat([df,nueva_fila.to_frame().T], ignore_index=True)\n",
    "\n"
   ]
  },
  {
   "cell_type": "code",
   "execution_count": 39,
   "metadata": {
    "colab": {
     "base_uri": "https://localhost:8080/",
     "height": 1000
    },
    "id": "m13bDMkXjsw4",
    "outputId": "838261e7-e853-4571-dade-c16a482339ee"
   },
   "outputs": [
    {
     "data": {
      "text/html": [
       "<div>\n",
       "<style scoped>\n",
       "    .dataframe tbody tr th:only-of-type {\n",
       "        vertical-align: middle;\n",
       "    }\n",
       "\n",
       "    .dataframe tbody tr th {\n",
       "        vertical-align: top;\n",
       "    }\n",
       "\n",
       "    .dataframe thead th {\n",
       "        text-align: right;\n",
       "    }\n",
       "</style>\n",
       "<table border=\"1\" class=\"dataframe\">\n",
       "  <thead>\n",
       "    <tr style=\"text-align: right;\">\n",
       "      <th></th>\n",
       "      <th>titulo</th>\n",
       "      <th>precio</th>\n",
       "      <th>piezas</th>\n",
       "    </tr>\n",
       "  </thead>\n",
       "  <tbody>\n",
       "    <tr>\n",
       "      <th>0</th>\n",
       "      <td>Puzzle Rompecabezas 1000 Pzs Varios Modelos Pa...</td>\n",
       "      <td>11.979</td>\n",
       "      <td>1000</td>\n",
       "    </tr>\n",
       "    <tr>\n",
       "      <th>1</th>\n",
       "      <td>Rompecabezas Puzzles 1000 Piezas Starry Sky Ci...</td>\n",
       "      <td>[15.990]</td>\n",
       "      <td>1000</td>\n",
       "    </tr>\n",
       "    <tr>\n",
       "      <th>2</th>\n",
       "      <td>Rompecabezas Puzzle 1000 Piezas Trefl Mañana P...</td>\n",
       "      <td>29.989</td>\n",
       "      <td>1000</td>\n",
       "    </tr>\n",
       "    <tr>\n",
       "      <th>3</th>\n",
       "      <td>Pegamento Conservador Rompecabezas Puzzle Tref...</td>\n",
       "      <td>10.989</td>\n",
       "      <td>0</td>\n",
       "    </tr>\n",
       "    <tr>\n",
       "      <th>4</th>\n",
       "      <td>Puzzle 1000 Pzs Mapamundi Antiguo 88319 197987...</td>\n",
       "      <td>[13.990]</td>\n",
       "      <td>1000</td>\n",
       "    </tr>\n",
       "    <tr>\n",
       "      <th>5</th>\n",
       "      <td>Rompecabezas Trefl Art Collection The Starry N...</td>\n",
       "      <td>29.989</td>\n",
       "      <td>1000</td>\n",
       "    </tr>\n",
       "    <tr>\n",
       "      <th>6</th>\n",
       "      <td>Oferta! Pack De 10 Rompecabezas De Madera Infa...</td>\n",
       "      <td>12.999</td>\n",
       "      <td>0</td>\n",
       "    </tr>\n",
       "    <tr>\n",
       "      <th>7</th>\n",
       "      <td>Acool Rompecabezas Puzzle Ruso Encastre De Mad...</td>\n",
       "      <td>[18.809]</td>\n",
       "      <td>0</td>\n",
       "    </tr>\n",
       "    <tr>\n",
       "      <th>8</th>\n",
       "      <td>Rompecabeza Puzzle 4000 Pieza Trefl Idilio De ...</td>\n",
       "      <td>79.989</td>\n",
       "      <td>4000</td>\n",
       "    </tr>\n",
       "    <tr>\n",
       "      <th>9</th>\n",
       "      <td>Crímenes Sin Resolver | Caja Del Crimen | Caso...</td>\n",
       "      <td>[3.420]</td>\n",
       "      <td>0</td>\n",
       "    </tr>\n",
       "    <tr>\n",
       "      <th>10</th>\n",
       "      <td>Rompecabezas Trefl Prague, Czech Republic 3738...</td>\n",
       "      <td>19.989</td>\n",
       "      <td>500</td>\n",
       "    </tr>\n",
       "    <tr>\n",
       "      <th>11</th>\n",
       "      <td>Rompecabezas fluorescente Educa Borras Mapamun...</td>\n",
       "      <td>[34.990]</td>\n",
       "      <td>1000</td>\n",
       "    </tr>\n",
       "    <tr>\n",
       "      <th>12</th>\n",
       "      <td>Rompecabezas Tomax Machu Picchu, Peru 100-223 ...</td>\n",
       "      <td>26.000</td>\n",
       "      <td>1000</td>\n",
       "    </tr>\n",
       "    <tr>\n",
       "      <th>13</th>\n",
       "      <td>Rompecabezas Argentina Provincias Capitales Ma...</td>\n",
       "      <td>12.879</td>\n",
       "      <td>0</td>\n",
       "    </tr>\n",
       "    <tr>\n",
       "      <th>14</th>\n",
       "      <td>Rompecabezas Puzzle 2000 Piezas Trefl Murano V...</td>\n",
       "      <td>39.989</td>\n",
       "      <td>2000</td>\n",
       "    </tr>\n",
       "    <tr>\n",
       "      <th>15</th>\n",
       "      <td>Rompecabezas Infantil Diente D León El Mundo M...</td>\n",
       "      <td>22.100</td>\n",
       "      <td>0</td>\n",
       "    </tr>\n",
       "    <tr>\n",
       "      <th>16</th>\n",
       "      <td>Puzzle Mapa Argentina Por 36 Piezas Antex 3036</td>\n",
       "      <td>[10.762]</td>\n",
       "      <td>36</td>\n",
       "    </tr>\n",
       "    <tr>\n",
       "      <th>17</th>\n",
       "      <td>Rompecabeza Tetris Tangram Puzzle Bloque Mader...</td>\n",
       "      <td>4.499</td>\n",
       "      <td>0</td>\n",
       "    </tr>\n",
       "    <tr>\n",
       "      <th>18</th>\n",
       "      <td>Mapa Argentina Madera Rompecabezas</td>\n",
       "      <td>17.000</td>\n",
       "      <td>0</td>\n",
       "    </tr>\n",
       "    <tr>\n",
       "      <th>19</th>\n",
       "      <td>Rompecabezas Puzzle 1000 Piezas 70x50cm Varios...</td>\n",
       "      <td>14.999</td>\n",
       "      <td>1000</td>\n",
       "    </tr>\n",
       "    <tr>\n",
       "      <th>20</th>\n",
       "      <td>Puzzle De Ingenio Tangram Rompecabezas 7 Pieza...</td>\n",
       "      <td>2.190</td>\n",
       "      <td>7</td>\n",
       "    </tr>\n",
       "    <tr>\n",
       "      <th>21</th>\n",
       "      <td>Rompecabezas Trefl London 10404 de 1000 piezas</td>\n",
       "      <td>29.989</td>\n",
       "      <td>1000</td>\n",
       "    </tr>\n",
       "    <tr>\n",
       "      <th>22</th>\n",
       "      <td>Porta Rompecabezas Puzzle Portapuzzle 500 - 1...</td>\n",
       "      <td>13.999</td>\n",
       "      <td>1500</td>\n",
       "    </tr>\n",
       "    <tr>\n",
       "      <th>23</th>\n",
       "      <td>Rompecabezas Trefl The Kiss 10559 de 1000 piezas</td>\n",
       "      <td>29.989</td>\n",
       "      <td>1000</td>\n",
       "    </tr>\n",
       "    <tr>\n",
       "      <th>24</th>\n",
       "      <td>Puzzle Rompecabezas 1000 Pzs Varios Modelos Pa...</td>\n",
       "      <td>11.979</td>\n",
       "      <td>1000</td>\n",
       "    </tr>\n",
       "    <tr>\n",
       "      <th>25</th>\n",
       "      <td>Rompecabezas Clementoni Museum Collection Van ...</td>\n",
       "      <td>31.990</td>\n",
       "      <td>1000</td>\n",
       "    </tr>\n",
       "    <tr>\n",
       "      <th>26</th>\n",
       "      <td>Puzzle 1000 Pzs Viajero En El Espacio 88316 19...</td>\n",
       "      <td>[15.990]</td>\n",
       "      <td>1000</td>\n",
       "    </tr>\n",
       "    <tr>\n",
       "      <th>27</th>\n",
       "      <td>Rompecabezas Madera Mapa Argentina 25 Pcs Enca...</td>\n",
       "      <td>[9.804]</td>\n",
       "      <td>25</td>\n",
       "    </tr>\n",
       "    <tr>\n",
       "      <th>28</th>\n",
       "      <td>Puzzle Rompecabezas 1000 Piezas Trefl Venus Bo...</td>\n",
       "      <td>29.989</td>\n",
       "      <td>1000</td>\n",
       "    </tr>\n",
       "    <tr>\n",
       "      <th>29</th>\n",
       "      <td>Rompecabezas Puzzle De 1500 Piezas Trefl Monte...</td>\n",
       "      <td>34.989</td>\n",
       "      <td>1500</td>\n",
       "    </tr>\n",
       "    <tr>\n",
       "      <th>30</th>\n",
       "      <td>Rompecabeza Puzzle Montessori Juego De Ingenio...</td>\n",
       "      <td>[10.199]</td>\n",
       "      <td>0</td>\n",
       "    </tr>\n",
       "    <tr>\n",
       "      <th>31</th>\n",
       "      <td>Rompecabezas Trefl Tiger's Nest, Bhutan 27092 ...</td>\n",
       "      <td>39.989</td>\n",
       "      <td>2000</td>\n",
       "    </tr>\n",
       "    <tr>\n",
       "      <th>32</th>\n",
       "      <td>Crímenes Sin Resolver | Caja Del Crimen | Caso...</td>\n",
       "      <td>[3.420]</td>\n",
       "      <td>0</td>\n",
       "    </tr>\n",
       "    <tr>\n",
       "      <th>33</th>\n",
       "      <td>Cubeta Toys Tetris Juego Mesa Didactico Rompec...</td>\n",
       "      <td>5.599</td>\n",
       "      <td>40</td>\n",
       "    </tr>\n",
       "    <tr>\n",
       "      <th>34</th>\n",
       "      <td>Rompecabezas Educa Borras El Jardín de las Del...</td>\n",
       "      <td>[51.990]</td>\n",
       "      <td>2000</td>\n",
       "    </tr>\n",
       "    <tr>\n",
       "      <th>35</th>\n",
       "      <td>Rompecabezas Puzzle Clementoni 1500 Piezas Rom...</td>\n",
       "      <td>[29.990]</td>\n",
       "      <td>1500</td>\n",
       "    </tr>\n",
       "    <tr>\n",
       "      <th>36</th>\n",
       "      <td>Puzzle Rompecabezas Tomax Maravillas Del Mundo...</td>\n",
       "      <td>26.000</td>\n",
       "      <td>1000</td>\n",
       "    </tr>\n",
       "    <tr>\n",
       "      <th>37</th>\n",
       "      <td>Juego Didactico De Encastre Animales En Bloque...</td>\n",
       "      <td>[5.957]</td>\n",
       "      <td>0</td>\n",
       "    </tr>\n",
       "    <tr>\n",
       "      <th>38</th>\n",
       "      <td>Puzzle 1000 Piezas árbol De Fantasía Ft321</td>\n",
       "      <td>15.800</td>\n",
       "      <td>0</td>\n",
       "    </tr>\n",
       "    <tr>\n",
       "      <th>39</th>\n",
       "      <td>Rompecabezas Trefl Balloons over Cappadocia 33...</td>\n",
       "      <td>54.989</td>\n",
       "      <td>3000</td>\n",
       "    </tr>\n",
       "    <tr>\n",
       "      <th>40</th>\n",
       "      <td>Gatitos Dormidos Trefl Rompecabezas De 500 Pie...</td>\n",
       "      <td>19.989</td>\n",
       "      <td>500</td>\n",
       "    </tr>\n",
       "    <tr>\n",
       "      <th>41</th>\n",
       "      <td>Rompecabezas Fauna Argentina 28 Piezas Grande ...</td>\n",
       "      <td>25.999</td>\n",
       "      <td>28</td>\n",
       "    </tr>\n",
       "    <tr>\n",
       "      <th>42</th>\n",
       "      <td>Rompecabezas Trefl Wintry Neuschwanstein Castl...</td>\n",
       "      <td>54.989</td>\n",
       "      <td>3000</td>\n",
       "    </tr>\n",
       "    <tr>\n",
       "      <th>43</th>\n",
       "      <td>Rompecabezas Personalizado De Madera, Foto, Di...</td>\n",
       "      <td>7.500</td>\n",
       "      <td>0</td>\n",
       "    </tr>\n",
       "    <tr>\n",
       "      <th>44</th>\n",
       "      <td>Rompecabezas Trefl Jerusalen 3000 Piezas</td>\n",
       "      <td>54.989</td>\n",
       "      <td>3000</td>\n",
       "    </tr>\n",
       "    <tr>\n",
       "      <th>45</th>\n",
       "      <td>Rompecabezas Provincias Mapa Argentina Nombre ...</td>\n",
       "      <td>11.900</td>\n",
       "      <td>0</td>\n",
       "    </tr>\n",
       "    <tr>\n",
       "      <th>46</th>\n",
       "      <td>Puzzle Tomax Rompecabezas Gran Canal De Veneci...</td>\n",
       "      <td>26.000</td>\n",
       "      <td>1000</td>\n",
       "    </tr>\n",
       "    <tr>\n",
       "      <th>47</th>\n",
       "      <td>Rompecabezas 1000 Pzs La Bombonera El Monument...</td>\n",
       "      <td>14.399</td>\n",
       "      <td>1000</td>\n",
       "    </tr>\n",
       "    <tr>\n",
       "      <th>48</th>\n",
       "      <td>Rompecabezas Puzzle El Espacio 150 Piezas 7553</td>\n",
       "      <td>10.700</td>\n",
       "      <td>150</td>\n",
       "    </tr>\n",
       "    <tr>\n",
       "      <th>49</th>\n",
       "      <td>Encastre Rompecabezas De Madera Bloque Tetris ...</td>\n",
       "      <td>3.900</td>\n",
       "      <td>0</td>\n",
       "    </tr>\n",
       "    <tr>\n",
       "      <th>50</th>\n",
       "      <td>Puzzle Rompecabezas 1000 Pz Panoramico Groning...</td>\n",
       "      <td>29.989</td>\n",
       "      <td>1000</td>\n",
       "    </tr>\n",
       "    <tr>\n",
       "      <th>51</th>\n",
       "      <td>Puzzle Rompecabeza 1500 Pzs Globos Aerostático...</td>\n",
       "      <td>[44.990]</td>\n",
       "      <td>1500</td>\n",
       "    </tr>\n",
       "    <tr>\n",
       "      <th>52</th>\n",
       "      <td>Juego De Ingenio Y Lógica 2 En 1 Rompecabezas ...</td>\n",
       "      <td>4.499</td>\n",
       "      <td>0</td>\n",
       "    </tr>\n",
       "    <tr>\n",
       "      <th>53</th>\n",
       "      <td>Puzzle Rompecabeza Spiderman 120 Piezas Tapimo...</td>\n",
       "      <td>7.117</td>\n",
       "      <td>120</td>\n",
       "    </tr>\n",
       "  </tbody>\n",
       "</table>\n",
       "</div>"
      ],
      "text/plain": [
       "                                               titulo    precio piezas\n",
       "0   Puzzle Rompecabezas 1000 Pzs Varios Modelos Pa...    11.979   1000\n",
       "1   Rompecabezas Puzzles 1000 Piezas Starry Sky Ci...  [15.990]   1000\n",
       "2   Rompecabezas Puzzle 1000 Piezas Trefl Mañana P...    29.989   1000\n",
       "3   Pegamento Conservador Rompecabezas Puzzle Tref...    10.989      0\n",
       "4   Puzzle 1000 Pzs Mapamundi Antiguo 88319 197987...  [13.990]   1000\n",
       "5   Rompecabezas Trefl Art Collection The Starry N...    29.989   1000\n",
       "6   Oferta! Pack De 10 Rompecabezas De Madera Infa...    12.999      0\n",
       "7   Acool Rompecabezas Puzzle Ruso Encastre De Mad...  [18.809]      0\n",
       "8   Rompecabeza Puzzle 4000 Pieza Trefl Idilio De ...    79.989   4000\n",
       "9   Crímenes Sin Resolver | Caja Del Crimen | Caso...   [3.420]      0\n",
       "10  Rompecabezas Trefl Prague, Czech Republic 3738...    19.989    500\n",
       "11  Rompecabezas fluorescente Educa Borras Mapamun...  [34.990]   1000\n",
       "12  Rompecabezas Tomax Machu Picchu, Peru 100-223 ...    26.000   1000\n",
       "13  Rompecabezas Argentina Provincias Capitales Ma...    12.879      0\n",
       "14  Rompecabezas Puzzle 2000 Piezas Trefl Murano V...    39.989   2000\n",
       "15  Rompecabezas Infantil Diente D León El Mundo M...    22.100      0\n",
       "16     Puzzle Mapa Argentina Por 36 Piezas Antex 3036  [10.762]     36\n",
       "17  Rompecabeza Tetris Tangram Puzzle Bloque Mader...     4.499      0\n",
       "18                 Mapa Argentina Madera Rompecabezas    17.000      0\n",
       "19  Rompecabezas Puzzle 1000 Piezas 70x50cm Varios...    14.999   1000\n",
       "20  Puzzle De Ingenio Tangram Rompecabezas 7 Pieza...     2.190      7\n",
       "21     Rompecabezas Trefl London 10404 de 1000 piezas    29.989   1000\n",
       "22   Porta Rompecabezas Puzzle Portapuzzle 500 - 1...    13.999   1500\n",
       "23   Rompecabezas Trefl The Kiss 10559 de 1000 piezas    29.989   1000\n",
       "24  Puzzle Rompecabezas 1000 Pzs Varios Modelos Pa...    11.979   1000\n",
       "25  Rompecabezas Clementoni Museum Collection Van ...    31.990   1000\n",
       "26  Puzzle 1000 Pzs Viajero En El Espacio 88316 19...  [15.990]   1000\n",
       "27  Rompecabezas Madera Mapa Argentina 25 Pcs Enca...   [9.804]     25\n",
       "28  Puzzle Rompecabezas 1000 Piezas Trefl Venus Bo...    29.989   1000\n",
       "29  Rompecabezas Puzzle De 1500 Piezas Trefl Monte...    34.989   1500\n",
       "30  Rompecabeza Puzzle Montessori Juego De Ingenio...  [10.199]      0\n",
       "31  Rompecabezas Trefl Tiger's Nest, Bhutan 27092 ...    39.989   2000\n",
       "32  Crímenes Sin Resolver | Caja Del Crimen | Caso...   [3.420]      0\n",
       "33  Cubeta Toys Tetris Juego Mesa Didactico Rompec...     5.599     40\n",
       "34  Rompecabezas Educa Borras El Jardín de las Del...  [51.990]   2000\n",
       "35  Rompecabezas Puzzle Clementoni 1500 Piezas Rom...  [29.990]   1500\n",
       "36  Puzzle Rompecabezas Tomax Maravillas Del Mundo...    26.000   1000\n",
       "37  Juego Didactico De Encastre Animales En Bloque...   [5.957]      0\n",
       "38         Puzzle 1000 Piezas árbol De Fantasía Ft321    15.800      0\n",
       "39  Rompecabezas Trefl Balloons over Cappadocia 33...    54.989   3000\n",
       "40  Gatitos Dormidos Trefl Rompecabezas De 500 Pie...    19.989    500\n",
       "41  Rompecabezas Fauna Argentina 28 Piezas Grande ...    25.999     28\n",
       "42  Rompecabezas Trefl Wintry Neuschwanstein Castl...    54.989   3000\n",
       "43  Rompecabezas Personalizado De Madera, Foto, Di...     7.500      0\n",
       "44           Rompecabezas Trefl Jerusalen 3000 Piezas    54.989   3000\n",
       "45  Rompecabezas Provincias Mapa Argentina Nombre ...    11.900      0\n",
       "46  Puzzle Tomax Rompecabezas Gran Canal De Veneci...    26.000   1000\n",
       "47  Rompecabezas 1000 Pzs La Bombonera El Monument...    14.399   1000\n",
       "48     Rompecabezas Puzzle El Espacio 150 Piezas 7553    10.700    150\n",
       "49  Encastre Rompecabezas De Madera Bloque Tetris ...     3.900      0\n",
       "50  Puzzle Rompecabezas 1000 Pz Panoramico Groning...    29.989   1000\n",
       "51  Puzzle Rompecabeza 1500 Pzs Globos Aerostático...  [44.990]   1500\n",
       "52  Juego De Ingenio Y Lógica 2 En 1 Rompecabezas ...     4.499      0\n",
       "53  Puzzle Rompecabeza Spiderman 120 Piezas Tapimo...     7.117    120"
      ]
     },
     "execution_count": 39,
     "metadata": {},
     "output_type": "execute_result"
    }
   ],
   "source": [
    "df"
   ]
  },
  {
   "cell_type": "markdown",
   "metadata": {
    "id": "aTE0IV8Rrm9e"
   },
   "source": [
    "Lo hacemos con todas las publicaciones?\n",
    "Si vamosa a la página 2 de mercado libre, vemos que la url es\n",
    "\n",
    "https://listado.mercadolibre.com.ar/samsung_Desde_51_NoIndex_True.\n",
    "\n",
    "Y la página 3 es\n",
    "\n",
    "https://listado.mercadolibre.com.ar/samsung_Desde_101_NoIndex_True\n",
    "\n",
    "Vamos que el \"desde_n\" aumenta de a 50. Como hay 40 páginas enlistadas, saquemos los datos de todas!"
   ]
  },
  {
   "cell_type": "markdown",
   "metadata": {
    "id": "5_XRBnbMsKY-"
   },
   "source": []
  },
  {
   "cell_type": "code",
   "execution_count": null,
   "metadata": {
    "id": "OJEoV_vQsoIk"
   },
   "outputs": [],
   "source": []
  },
  {
   "cell_type": "code",
   "execution_count": 40,
   "metadata": {
    "colab": {
     "base_uri": "https://localhost:8080/"
    },
    "id": "Zcn1iv4pqnsl",
    "outputId": "283185fd-0cec-44af-f2e8-c312b4b8d2e6"
   },
   "outputs": [
    {
     "name": "stdout",
     "output_type": "stream",
     "text": [
      "51 https://listado.mercadolibre.com.ar/rompecabezas_Desde_51_NoIndex_True\n",
      "101 https://listado.mercadolibre.com.ar/rompecabezas_Desde_101_NoIndex_True\n",
      "151 https://listado.mercadolibre.com.ar/rompecabezas_Desde_151_NoIndex_True\n",
      "201 https://listado.mercadolibre.com.ar/rompecabezas_Desde_201_NoIndex_True\n",
      "251 https://listado.mercadolibre.com.ar/rompecabezas_Desde_251_NoIndex_True\n",
      "301 https://listado.mercadolibre.com.ar/rompecabezas_Desde_301_NoIndex_True\n",
      "351 https://listado.mercadolibre.com.ar/rompecabezas_Desde_351_NoIndex_True\n",
      "401 https://listado.mercadolibre.com.ar/rompecabezas_Desde_401_NoIndex_True\n",
      "451 https://listado.mercadolibre.com.ar/rompecabezas_Desde_451_NoIndex_True\n",
      "501 https://listado.mercadolibre.com.ar/rompecabezas_Desde_501_NoIndex_True\n",
      "551 https://listado.mercadolibre.com.ar/rompecabezas_Desde_551_NoIndex_True\n",
      "601 https://listado.mercadolibre.com.ar/rompecabezas_Desde_601_NoIndex_True\n",
      "651 https://listado.mercadolibre.com.ar/rompecabezas_Desde_651_NoIndex_True\n",
      "701 https://listado.mercadolibre.com.ar/rompecabezas_Desde_701_NoIndex_True\n",
      "751 https://listado.mercadolibre.com.ar/rompecabezas_Desde_751_NoIndex_True\n",
      "801 https://listado.mercadolibre.com.ar/rompecabezas_Desde_801_NoIndex_True\n",
      "851 https://listado.mercadolibre.com.ar/rompecabezas_Desde_851_NoIndex_True\n",
      "901 https://listado.mercadolibre.com.ar/rompecabezas_Desde_901_NoIndex_True\n",
      "951 https://listado.mercadolibre.com.ar/rompecabezas_Desde_951_NoIndex_True\n",
      "1001 https://listado.mercadolibre.com.ar/rompecabezas_Desde_1001_NoIndex_True\n",
      "1051 https://listado.mercadolibre.com.ar/rompecabezas_Desde_1051_NoIndex_True\n",
      "1101 https://listado.mercadolibre.com.ar/rompecabezas_Desde_1101_NoIndex_True\n",
      "1151 https://listado.mercadolibre.com.ar/rompecabezas_Desde_1151_NoIndex_True\n",
      "1201 https://listado.mercadolibre.com.ar/rompecabezas_Desde_1201_NoIndex_True\n",
      "1251 https://listado.mercadolibre.com.ar/rompecabezas_Desde_1251_NoIndex_True\n",
      "1301 https://listado.mercadolibre.com.ar/rompecabezas_Desde_1301_NoIndex_True\n",
      "1351 https://listado.mercadolibre.com.ar/rompecabezas_Desde_1351_NoIndex_True\n",
      "1401 https://listado.mercadolibre.com.ar/rompecabezas_Desde_1401_NoIndex_True\n",
      "1451 https://listado.mercadolibre.com.ar/rompecabezas_Desde_1451_NoIndex_True\n",
      "1501 https://listado.mercadolibre.com.ar/rompecabezas_Desde_1501_NoIndex_True\n",
      "1551 https://listado.mercadolibre.com.ar/rompecabezas_Desde_1551_NoIndex_True\n",
      "1601 https://listado.mercadolibre.com.ar/rompecabezas_Desde_1601_NoIndex_True\n",
      "1651 https://listado.mercadolibre.com.ar/rompecabezas_Desde_1651_NoIndex_True\n",
      "1701 https://listado.mercadolibre.com.ar/rompecabezas_Desde_1701_NoIndex_True\n",
      "1751 https://listado.mercadolibre.com.ar/rompecabezas_Desde_1751_NoIndex_True\n",
      "1801 https://listado.mercadolibre.com.ar/rompecabezas_Desde_1801_NoIndex_True\n",
      "1851 https://listado.mercadolibre.com.ar/rompecabezas_Desde_1851_NoIndex_True\n",
      "1901 https://listado.mercadolibre.com.ar/rompecabezas_Desde_1901_NoIndex_True\n",
      "1951 https://listado.mercadolibre.com.ar/rompecabezas_Desde_1951_NoIndex_True\n"
     ]
    }
   ],
   "source": [
    "contador = 1\n",
    "urls = []\n",
    "for i in range(39):\n",
    "  contador = contador + 50\n",
    "  url_actual = f\"https://listado.mercadolibre.com.ar/rompecabezas_Desde_{contador}_NoIndex_True\"\n",
    "  print(contador,url_actual)\n",
    "  urls.append(url_actual)\n",
    "\n"
   ]
  },
  {
   "cell_type": "code",
   "execution_count": 41,
   "metadata": {
    "id": "c4KqhYNTsiRK"
   },
   "outputs": [],
   "source": [
    "for URL in urls:\n",
    "  page = requests.get(URL)\n",
    "  soup = BeautifulSoup(page.content, \"html.parser\")\n",
    "  resultados = soup.find_all(\"li\", class_=\"ui-search-layout__item shops__layout-item ui-search-layout__stack\")\n",
    "\n",
    "  for elem in resultados:\n",
    "    titulo = elem.findChild('h2').getText()\n",
    "    precios = elem.findChildren(class_=\"andes-money-amount__fraction\")\n",
    "\n",
    "    if len(precios) > 1:\n",
    "      precio = precios[1].getText()\n",
    "    else:\n",
    "      precio = precios[0].getText()\n",
    "\n",
    "    piezas = piezasDeElem(elem)\n",
    "\n",
    "    nueva_fila = pd.Series({'titulo' : titulo , 'precio' : precio,'piezas': piezas})\n",
    "    df = pd.concat([df,nueva_fila.to_frame().T], ignore_index=True)\n",
    "      "
   ]
  },
  {
   "cell_type": "code",
   "execution_count": 42,
   "metadata": {
    "colab": {
     "base_uri": "https://localhost:8080/",
     "height": 424
    },
    "id": "kEY77taWuQub",
    "outputId": "11da7f64-d27e-44b0-bd17-ce9c3ce05d08"
   },
   "outputs": [
    {
     "data": {
      "text/html": [
       "<div>\n",
       "<style scoped>\n",
       "    .dataframe tbody tr th:only-of-type {\n",
       "        vertical-align: middle;\n",
       "    }\n",
       "\n",
       "    .dataframe tbody tr th {\n",
       "        vertical-align: top;\n",
       "    }\n",
       "\n",
       "    .dataframe thead th {\n",
       "        text-align: right;\n",
       "    }\n",
       "</style>\n",
       "<table border=\"1\" class=\"dataframe\">\n",
       "  <thead>\n",
       "    <tr style=\"text-align: right;\">\n",
       "      <th></th>\n",
       "      <th>titulo</th>\n",
       "      <th>precio</th>\n",
       "      <th>piezas</th>\n",
       "    </tr>\n",
       "  </thead>\n",
       "  <tbody>\n",
       "    <tr>\n",
       "      <th>0</th>\n",
       "      <td>Puzzle Rompecabezas 1000 Pzs Varios Modelos Pa...</td>\n",
       "      <td>11.979</td>\n",
       "      <td>1000</td>\n",
       "    </tr>\n",
       "    <tr>\n",
       "      <th>1</th>\n",
       "      <td>Rompecabezas Puzzles 1000 Piezas Starry Sky Ci...</td>\n",
       "      <td>[15.990]</td>\n",
       "      <td>1000</td>\n",
       "    </tr>\n",
       "    <tr>\n",
       "      <th>2</th>\n",
       "      <td>Rompecabezas Puzzle 1000 Piezas Trefl Mañana P...</td>\n",
       "      <td>29.989</td>\n",
       "      <td>1000</td>\n",
       "    </tr>\n",
       "    <tr>\n",
       "      <th>3</th>\n",
       "      <td>Pegamento Conservador Rompecabezas Puzzle Tref...</td>\n",
       "      <td>10.989</td>\n",
       "      <td>0</td>\n",
       "    </tr>\n",
       "    <tr>\n",
       "      <th>4</th>\n",
       "      <td>Puzzle 1000 Pzs Mapamundi Antiguo 88319 197987...</td>\n",
       "      <td>[13.990]</td>\n",
       "      <td>1000</td>\n",
       "    </tr>\n",
       "    <tr>\n",
       "      <th>...</th>\n",
       "      <td>...</td>\n",
       "      <td>...</td>\n",
       "      <td>...</td>\n",
       "    </tr>\n",
       "    <tr>\n",
       "      <th>2206</th>\n",
       "      <td>Puzzle camion Volcador Construccion 20 Piezas ...</td>\n",
       "      <td>3.790</td>\n",
       "      <td>20</td>\n",
       "    </tr>\n",
       "    <tr>\n",
       "      <th>2207</th>\n",
       "      <td>Puzzle 3d Sonic 60 Piezas Con Anteojos</td>\n",
       "      <td>10.500</td>\n",
       "      <td>60</td>\n",
       "    </tr>\n",
       "    <tr>\n",
       "      <th>2208</th>\n",
       "      <td>Dinosaurios, Para Armar, Puzzle.en Fibro Facil...</td>\n",
       "      <td>12.000</td>\n",
       "      <td>0</td>\n",
       "    </tr>\n",
       "    <tr>\n",
       "      <th>2209</th>\n",
       "      <td>Puzzle Rompecabezas Gigante De Piso 48 Piezas ...</td>\n",
       "      <td>32.600</td>\n",
       "      <td>48</td>\n",
       "    </tr>\n",
       "    <tr>\n",
       "      <th>2210</th>\n",
       "      <td>Rompecabezas / Puzzle Largo Granja. 30 Piezas</td>\n",
       "      <td>32.847</td>\n",
       "      <td>30</td>\n",
       "    </tr>\n",
       "  </tbody>\n",
       "</table>\n",
       "<p>2211 rows × 3 columns</p>\n",
       "</div>"
      ],
      "text/plain": [
       "                                                 titulo    precio piezas\n",
       "0     Puzzle Rompecabezas 1000 Pzs Varios Modelos Pa...    11.979   1000\n",
       "1     Rompecabezas Puzzles 1000 Piezas Starry Sky Ci...  [15.990]   1000\n",
       "2     Rompecabezas Puzzle 1000 Piezas Trefl Mañana P...    29.989   1000\n",
       "3     Pegamento Conservador Rompecabezas Puzzle Tref...    10.989      0\n",
       "4     Puzzle 1000 Pzs Mapamundi Antiguo 88319 197987...  [13.990]   1000\n",
       "...                                                 ...       ...    ...\n",
       "2206  Puzzle camion Volcador Construccion 20 Piezas ...     3.790     20\n",
       "2207             Puzzle 3d Sonic 60 Piezas Con Anteojos    10.500     60\n",
       "2208  Dinosaurios, Para Armar, Puzzle.en Fibro Facil...    12.000      0\n",
       "2209  Puzzle Rompecabezas Gigante De Piso 48 Piezas ...    32.600     48\n",
       "2210      Rompecabezas / Puzzle Largo Granja. 30 Piezas    32.847     30\n",
       "\n",
       "[2211 rows x 3 columns]"
      ]
     },
     "execution_count": 42,
     "metadata": {},
     "output_type": "execute_result"
    }
   ],
   "source": [
    "df"
   ]
  },
  {
   "cell_type": "code",
   "execution_count": null,
   "metadata": {},
   "outputs": [],
   "source": []
  }
 ],
 "metadata": {
  "colab": {
   "provenance": []
  },
  "kernelspec": {
   "display_name": "Python 3 (ipykernel)",
   "language": "python",
   "name": "python3"
  },
  "language_info": {
   "codemirror_mode": {
    "name": "ipython",
    "version": 3
   },
   "file_extension": ".py",
   "mimetype": "text/x-python",
   "name": "python",
   "nbconvert_exporter": "python",
   "pygments_lexer": "ipython3",
   "version": "3.10.12"
  }
 },
 "nbformat": 4,
 "nbformat_minor": 4
}
